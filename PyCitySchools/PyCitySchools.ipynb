{
 "cells": [
  {
   "cell_type": "markdown",
   "id": "5af08049",
   "metadata": {},
   "source": [
    "# PyCity Schools Analysis"
   ]
  },
  {
   "cell_type": "code",
   "execution_count": null,
   "id": "43603f6e",
   "metadata": {},
   "outputs": [],
   "source": [
    "# Import dependencies \n",
    "import numpy as np\n",
    "import pandas as pd\n",
    "\n",
    "#load files to analyze data\n",
    "schools_complete= 'Starter_Code/PyCitySchools/Resources/schools_complete.csv'\n",
    "student_complete= 'Starter_Code/PyCitySchools/Resources/students_complete.csv'"
   ]
  },
  {
   "cell_type": "code",
   "execution_count": null,
   "id": "c5c3d691",
   "metadata": {},
   "outputs": [],
   "source": [
    "#Read data files and store into Pandas DataFrame\n",
    "school_data =pd.read_csv(schools_complete)\n",
    "student_data =pd.read_csv(student_complete)"
   ]
  },
  {
   "cell_type": "code",
   "execution_count": null,
   "id": "1743bb3b",
   "metadata": {},
   "outputs": [],
   "source": [
    "#merge both data files into a single data set\n",
    "school_student_data = pd.merge(student_data, school_data, how=\"left\", on=(\"school_name\", \"school_name\"))\n",
    "school_student_data.head()"
   ]
  },
  {
   "cell_type": "markdown",
   "id": "57ad0db5",
   "metadata": {},
   "source": [
    "# District Summary"
   ]
  },
  {
   "cell_type": "code",
   "execution_count": null,
   "id": "64b5f723",
   "metadata": {},
   "outputs": [],
   "source": [
    "#Calculate the totals number of school and students\n",
    "school_count = len(school_student_data[\"school_name\"].unique())\n",
    "student_count = school_student_data['Student ID'].count()"
   ]
  },
  {
   "cell_type": "code",
   "execution_count": null,
   "id": "6d4c7769",
   "metadata": {},
   "outputs": [],
   "source": [
    "#Calculate the total budget\n",
    "total_budget = school_student_data['budget'].sum()"
   ]
  },
  {
   "cell_type": "code",
   "execution_count": null,
   "id": "7de3a04e",
   "metadata": {},
   "outputs": [],
   "source": [
    "#Calculate the average scores\n",
    "average_math_score = school_student_data[\"math_score\"].mean()\n",
    "average_reading_score= school_student_data['reading_score'].mean()\n",
    "overall_passing_rate=(average_math_score + average_reading_score)/2 "
   ]
  },
  {
   "cell_type": "code",
   "execution_count": null,
   "id": "39fab0c1",
   "metadata": {},
   "outputs": [],
   "source": [
    "#Calculate the percentage pass rates\n",
    "passing_math_count = school_student_data[(school_student_data['math_score'] > 70)].count()['student_name']\n",
    "passing_math_percentage = passing_math_count/ float(student_count) * 100 \n",
    "passing_reading_count = school_student_data[(school_student_data['reading_score'] > 70)].count()['student_name']\n",
    "passing_reading_percentage= passing_reading_count/ float(student_count) * 100 "
   ]
  },
  {
   "cell_type": "code",
   "execution_count": null,
   "id": "d8202713",
   "metadata": {},
   "outputs": [],
   "source": [
    "#Create a high-level snapshot of the district's key metrics in a DataFrame\n",
    "district_summary = pd.DataFrame({'Total Schools': [school_count], \n",
    "                                'Total Students': [student_count],\n",
    "                                'Total Budget' : [total_budget],\n",
    "                                'Average Math Score': [average_math_score],\n",
    "                                'Average Reading Score': [average_reading_score],\n",
    "                                '% Passing Math': [passing_math_percentage],\n",
    "                                '% Passing Reading' : [passing_reading_percentage], \n",
    "                                '% Overall Passing Rate': [overall_passing_rate]})\n",
    "\n",
    "district_summary = district_summary [['Total Schools', 'Total Students', 'Total Budget', 'Average Math Score','Average Reading Score',\n",
    "                                     '% Passing Math', '% Passing Reading', '% Overall Passing Rate']]\n",
    "\n",
    "district_summary['Total Students']= district_summary['Total Students'].map(\"{:,}\".format)\n",
    "district_summary['Total Budget'] = district_summary['Total Budget'].map(\"${:,.2f}\".format)\n",
    "\n",
    "#print the DataFrame\n",
    "district_summary"
   ]
  },
  {
   "cell_type": "markdown",
   "id": "5fc2939b",
   "metadata": {},
   "source": [
    "# School Summary"
   ]
  },
  {
   "cell_type": "code",
   "execution_count": null,
   "id": "31d85afc",
   "metadata": {},
   "outputs": [],
   "source": [
    "# Determine the school type\n",
    "school_type = school_data.set_index(['school_name'])['type']"
   ]
  },
  {
   "cell_type": "code",
   "execution_count": null,
   "id": "ea6a0347",
   "metadata": {},
   "outputs": [],
   "source": [
    "# Calculate the total number of students\n",
    "Total_per_school = school_student_data['school_name'].value_counts()"
   ]
  },
  {
   "cell_type": "code",
   "execution_count": null,
   "id": "5c39f4b9",
   "metadata": {},
   "outputs": [],
   "source": [
    "#Calculate the total school budget and per capita spending\n",
    "Budget_per_school = school_student_data.groupby(['school_name']).mean()['budget']\n",
    "Capita_per_school = Budget_per_school / Total_per_school"
   ]
  },
  {
   "cell_type": "code",
   "execution_count": null,
   "id": "006133e6",
   "metadata": {},
   "outputs": [],
   "source": [
    "#Calculate average test scores\n",
    "average_school_math = school_student_data.groupby(['school_name']).mean()['math_score']\n",
    "average_school_reading = school_student_data.groupby(['school_name']).mean()['reading_score']"
   ]
  },
  {
   "cell_type": "code",
   "execution_count": null,
   "id": "6797b7eb",
   "metadata": {},
   "outputs": [],
   "source": [
    "#Calculate passing scores\n",
    "school_passing_math = school_student_data[(school_student_data['math_score'] > 70)]\n",
    "school_passing_reading= school_student_data[(school_student_data['reading_score'] > 70)]\n",
    "\n",
    "per_school_passing_math = school_passing_math.groupby(['school_name']).count()['student_name']/ Total_per_school * 100\n",
    "per_school_passing_reading = school_passing_reading.groupby(['school_name']).count()['student_name']/ Total_per_school * 100\n",
    "overall_passing_rate = (per_school_passing_math + per_school_passing_reading) / 2 "
   ]
  },
  {
   "cell_type": "code",
   "execution_count": null,
   "id": "437140d9",
   "metadata": {},
   "outputs": [],
   "source": [
    "#Create a DataFrame that summarizes key metrics about each school.\n",
    "School_summary = pd.DataFrame({'School Type': school_type,\n",
    "                              'Total Students': Total_per_school,\n",
    "                              'Total School Budget': Budget_per_school,\n",
    "                              'Per Student Budget': Capita_per_school,\n",
    "                              'Average Math Score': average_school_math,\n",
    "                              'Average Reading Score': average_school_reading, \n",
    "                              '% Passing Math':per_school_passing_math, \n",
    "                              '% Passing Reading':per_school_passing_reading,\n",
    "                              '% Overall Passing Rate': overall_passing_rate})\n",
    "\n",
    "School_summary = School_summary [['School Type', 'Total Students', 'Total School Budget', 'Per Student Budget',\n",
    "                              'Average Math Score', 'Average Reading Score', '% Passing Math', \n",
    "                              '% Passing Reading', '% Overall Passing Rate']]\n",
    "\n",
    "School_summary['Total School Budget'] = School_summary['Total School Budget'].map(\"${:,.2f}\".format)\n",
    "School_summary['Per Student Budget'] = School_summary['Per Student Budget'].map(\"${:,.2f}\".format)\n",
    "\n",
    "School_summary"
   ]
  },
  {
   "cell_type": "markdown",
   "id": "d8ce3a6e",
   "metadata": {},
   "source": [
    "# Highest-Performing Schools (by % Overall Passing)"
   ]
  },
  {
   "cell_type": "code",
   "execution_count": null,
   "id": "f17eb41d",
   "metadata": {},
   "outputs": [],
   "source": [
    "#sort and show top five schools\n",
    "top_schools = School_summary.sort_values(['% Overall Passing Rate'], ascending=False)\n",
    "top_schools.head()"
   ]
  },
  {
   "cell_type": "markdown",
   "id": "973d0fad",
   "metadata": {},
   "source": [
    "# Lowest-Performing Schools (by % Overall Passing)"
   ]
  },
  {
   "cell_type": "code",
   "execution_count": null,
   "id": "220e4cd7",
   "metadata": {},
   "outputs": [],
   "source": [
    "#sort and show bottom five schools\n",
    "bottom_schools = School_summary.sort_values(['% Overall Passing Rate'], ascending=True)\n",
    "bottom_schools.head()"
   ]
  },
  {
   "cell_type": "markdown",
   "id": "44ce65f7",
   "metadata": {},
   "source": [
    "# Math Scores by Grade"
   ]
  },
  {
   "cell_type": "code",
   "execution_count": null,
   "id": "71486169",
   "metadata": {},
   "outputs": [],
   "source": [
    "#create data series of scores by grade levels using conditionals\n",
    "ninth_graders = school_student_data[(school_student_data['grade'] == '9th')]\n",
    "tenth_graders = school_student_data[(school_student_data['grade'] == '10th')]\n",
    "eleventh_graders = school_student_data[(school_student_data['grade'] == '11th')]\n",
    "twelfth_graders = school_student_data[(school_student_data['grade'] == '12th')]\n",
    "\n",
    "#group each by school name\n",
    "ninth_graders_scores = ninth_graders.groupby(['school_name']).mean()['math_score']\n",
    "tenth_graders_scores = tenth_graders.groupby(['school_name']).mean()['math_score']\n",
    "eleventh_graders_scores = eleventh_graders.groupby(['school_name']).mean()['math_score']\n",
    "twelfth_graders_scores = twelfth_graders.groupby(['school_name']).mean()['math_score']\n",
    "\n",
    "#combine series into a single DataFrame\n",
    "scores_by_grade = pd.DataFrame({'9th': ninth_graders_scores, \n",
    "                               '10th': tenth_graders_scores, \n",
    "                               '11th': eleventh_graders_scores,\n",
    "                               '12th': twelfth_graders_scores})\n",
    "\n",
    "scores_by_grade = scores_by_grade[['9th', '10th', '11th', '12th']]\n",
    "scores_by_grade.index.name = None \n",
    "\n",
    "#display the DataFrame\n",
    "scores_by_grade"
   ]
  },
  {
   "cell_type": "markdown",
   "id": "d7e2ec43",
   "metadata": {},
   "source": [
    "# Reading Scores by Grade"
   ]
  },
  {
   "cell_type": "code",
   "execution_count": null,
   "id": "b79148f1",
   "metadata": {},
   "outputs": [],
   "source": [
    "#group each by school name\n",
    "ninth_graders_scores1 = ninth_graders.groupby(['school_name']).mean()['reading_score']\n",
    "tenth_graders_scores1 = tenth_graders.groupby(['school_name']).mean()['reading_score']\n",
    "eleventh_graders_scores1 = eleventh_graders.groupby(['school_name']).mean()['reading_score']\n",
    "twelfth_graders_scores1 = twelfth_graders.groupby(['school_name']).mean()['reading_score']\n",
    "\n",
    "#combine series into a single DataFrame\n",
    "scores_by_grade1 = pd.DataFrame({'9th': ninth_graders_scores1, \n",
    "                               '10th': tenth_graders_scores1, \n",
    "                               '11th': eleventh_graders_scores1,\n",
    "                               '12th': twelfth_graders_scores1})\n",
    "\n",
    "scores_by_grade1 = scores_by_grade1[['9th', '10th', '11th', '12th']]\n",
    "scores_by_grade1.index.name = None \n",
    "\n",
    "#display the DataFrame\n",
    "scores_by_grade1"
   ]
  },
  {
   "cell_type": "markdown",
   "id": "1eb1c5b8",
   "metadata": {},
   "source": [
    "# Scores by School Spending"
   ]
  },
  {
   "cell_type": "code",
   "execution_count": null,
   "id": "c8ea8427",
   "metadata": {},
   "outputs": [],
   "source": [
    "# use the bins provided\n",
    "spending_bins = [0, 565, 615, 645, 675]\n",
    "group_names = [\"<$585\", \"$585-615\", \"$615-645\", \"$645-675\"]\n",
    "\n",
    "#categorize the spending \n",
    "School_summary['Spending Ranges (Per Student)'] = pd.cut(Capita_per_school, spending_bins, labels=group_names)\n",
    "\n",
    "spending_math_scores = School_summary.groupby(['Spending Ranges (Per Student)']).mean()['Average Math Score']\n",
    "spending_reading_scores = School_summary.groupby(['Spending Ranges (Per Student)']).mean()['Average Reading Score']\n",
    "spending_passing_math = School_summary.groupby(['Spending Ranges (Per Student)']). mean()['% Passing Math']\n",
    "spending_passing_reading = School_summary.groupby(['Spending Ranges (Per Student)']. mean()['% Passing Reading']\n",
    "spending = (spending_math_scores + spending_reading_scores) / 2 \n",
    "\n",
    "\n",
    "# create a DataFrame\n",
    "spending_summary = pd.DataFrame({'Average Math Score': spending_math_scores,\n",
    "                                 'Average Reading Score': spending_reading_scores,\n",
    "                                 '% Passing Math': spending_passing_math,\n",
    "                                 '% Passing Reading': spending_passing_reading,\n",
    "                                 '% Overall Passing Rate': spending})\n",
    "\n",
    "spending_summary = spending_summary [['Average Math Score', 'Average Reading Score', '% Passing Math','% Passing Reading',\n",
    "                                      '% Overall Passing Rate']]\n",
    "\n",
    "spending_summary"
   ]
  },
  {
   "cell_type": "markdown",
   "id": "ada3dec5",
   "metadata": {},
   "source": [
    "# Scores by School size"
   ]
  },
  {
   "cell_type": "code",
   "execution_count": null,
   "id": "365938ad",
   "metadata": {},
   "outputs": [],
   "source": [
    "# use the bins provided\n",
    "size_bins = [0, 1000, 2000, 5000]\n",
    "group_names= ['Small (<1000)', 'Medium (1000-2000)', 'Large (2000-5000)']\n",
    "\n",
    "#categorize the school size based on given bins\n",
    "\n",
    "School_summary['School Size']= pd.cut(School_summary['Total Students'], size_bins, labels=group_names)\n",
    "\n",
    "#calculate the scores based on bins\n",
    "size_math_scores = School_summary.groupby(['School Size']).mean()['Average Math Score']\n",
    "size_reading_scores= School_summary.groupby(['School Size']). mean()['Average Reading Score']\n",
    "size_passing_math = School_summary.groupby (['School Size']). mean()['% Passing Math']\n",
    "size_passing_reading = School_summary.groupby (['School Size']. mean()['% Passing Reading']\n",
    "overall_passing_rate = (size_math_scores + size_reading_scores) / 2 \n",
    "\n",
    "\n",
    "\n",
    "# create a DataFrame\n",
    "size_summary = pd.DataFrame ({'Average Math Score': size_math_scores,\n",
    "                              'Average Reading Score' : size_reading_scores,\n",
    "                              '% Passing Math': size_passing_math,\n",
    "                              '% Passing Reading': size_passing_reading,\n",
    "                              '% Overall Passing Rate': overall_passing_rate})\n",
    "\n",
    "size_summary"
   ]
  },
  {
   "cell_type": "markdown",
   "id": "9cf9c9c8",
   "metadata": {},
   "source": [
    "# Scores by School Type"
   ]
  },
  {
   "cell_type": "code",
   "execution_count": null,
   "id": "4b377b2d",
   "metadata": {},
   "outputs": [],
   "source": [
    "# calculate the scores based school type\n",
    "type_math_scores = School_summary.groupby([\"School Type\"]). mean()['Average Math Score']\n",
    "type_reading_scores= School_summary.groupby([\"School Type\"]). mean()['Average Reading Score']\n",
    "type_passing_math = School_summary.groupby (['School Type']). mean()['% Passing Math']\n",
    "type_passing_reading = School_summary.groupby (['School Type']). mean()['% Passing Reading']\n",
    "overall_passing_rate = (type_passing_math + type_passing_reading) / 2 \n",
    "\n",
    "#create a DataFrame\n",
    "\n",
    "type_summary = pd.DataFrame ({'Average Math Score': type_math_scores,\n",
    "                              'Average Reading Score' : type_reading_scores,\n",
    "                              '% Passing Math': type_passing_math,\n",
    "                              '% Passing Reading': type_passing_reading,\n",
    "                              '% Overall Passing Rate': overall_passing_rate})\n",
    "\n",
    "type_summary"
   ]
  },
  {
   "cell_type": "code",
   "execution_count": null,
   "id": "a13cf5f3",
   "metadata": {},
   "outputs": [],
   "source": []
  }
 ],
 "metadata": {
  "kernelspec": {
   "display_name": "Python 3 (ipykernel)",
   "language": "python",
   "name": "python3"
  },
  "language_info": {
   "codemirror_mode": {
    "name": "ipython",
    "version": 3
   },
   "file_extension": ".py",
   "mimetype": "text/x-python",
   "name": "python",
   "nbconvert_exporter": "python",
   "pygments_lexer": "ipython3",
   "version": "3.9.13"
  }
 },
 "nbformat": 4,
 "nbformat_minor": 5
}
